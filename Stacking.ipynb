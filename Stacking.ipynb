{
 "cells": [
  {
   "cell_type": "markdown",
   "metadata": {},
   "source": [
    "Following models were implemented which can be found in repository:\n",
    "1. VGG16\n",
    "2. Inception Res Net V2\n",
    "3. Xception\n",
    "\n",
    "Different algorithms were tested at multiple configurations and results were averaged using this script to submit final predictions"
   ]
  },
  {
   "cell_type": "code",
   "execution_count": 1,
   "metadata": {},
   "outputs": [],
   "source": [
    "import pandas as pd"
   ]
  },
  {
   "cell_type": "code",
   "execution_count": 2,
   "metadata": {},
   "outputs": [],
   "source": [
    "vgg16_epoch5=pd.read_csv(\"submission_vgg16_epoch5.csv\",index_col=[0])\n",
    "vgg16_epoch10=pd.read_csv(\"submission_vgg16_epoch10.csv\",index_col=[0])\n",
    "inception_epoch10=pd.read_csv(\"submission_inception_epoch10.csv\",index_col=[0])\n",
    "xception_epoch5=pd.read_csv(\"submission_xception_epoch5.csv\",index_col=[0])\n",
    "xception_epoch10=pd.read_csv(\"submission_xception_epoch10_adam.csv\",index_col=[0])\n",
    "xception_epoch10_sgd=pd.read_csv(\"submission_xception_epoch10_sgd.csv\",index_col=[0])\n",
    "xception_epoch20=pd.read_csv(\"submission_xception_epoch20.csv\",index_col=[0])"
   ]
  },
  {
   "cell_type": "code",
   "execution_count": 3,
   "metadata": {},
   "outputs": [
    {
     "data": {
      "text/html": [
       "<div>\n",
       "<style scoped>\n",
       "    .dataframe tbody tr th:only-of-type {\n",
       "        vertical-align: middle;\n",
       "    }\n",
       "\n",
       "    .dataframe tbody tr th {\n",
       "        vertical-align: top;\n",
       "    }\n",
       "\n",
       "    .dataframe thead th {\n",
       "        text-align: right;\n",
       "    }\n",
       "</style>\n",
       "<table border=\"1\" class=\"dataframe\">\n",
       "  <thead>\n",
       "    <tr style=\"text-align: right;\">\n",
       "      <th></th>\n",
       "      <th>label</th>\n",
       "    </tr>\n",
       "    <tr>\n",
       "      <th>id</th>\n",
       "      <th></th>\n",
       "    </tr>\n",
       "  </thead>\n",
       "  <tbody>\n",
       "    <tr>\n",
       "      <th>2820</th>\n",
       "      <td>1.0</td>\n",
       "    </tr>\n",
       "    <tr>\n",
       "      <th>4694</th>\n",
       "      <td>0.0</td>\n",
       "    </tr>\n",
       "    <tr>\n",
       "      <th>9935</th>\n",
       "      <td>1.0</td>\n",
       "    </tr>\n",
       "    <tr>\n",
       "      <th>3663</th>\n",
       "      <td>0.0</td>\n",
       "    </tr>\n",
       "    <tr>\n",
       "      <th>5068</th>\n",
       "      <td>1.0</td>\n",
       "    </tr>\n",
       "  </tbody>\n",
       "</table>\n",
       "</div>"
      ],
      "text/plain": [
       "      label\n",
       "id         \n",
       "2820    1.0\n",
       "4694    0.0\n",
       "9935    1.0\n",
       "3663    0.0\n",
       "5068    1.0"
      ]
     },
     "execution_count": 3,
     "metadata": {},
     "output_type": "execute_result"
    }
   ],
   "source": [
    "vgg16_epoch5.head()"
   ]
  },
  {
   "cell_type": "code",
   "execution_count": 4,
   "metadata": {},
   "outputs": [],
   "source": [
    "final_submission=pd.concat([vgg16_epoch5,vgg16_epoch10,inception_epoch10,\n",
    "                           xception_epoch5,xception_epoch10,xception_epoch10_sgd,\n",
    "                           xception_epoch20],axis=1,join='inner')"
   ]
  },
  {
   "cell_type": "code",
   "execution_count": 5,
   "metadata": {},
   "outputs": [
    {
     "data": {
      "text/html": [
       "<div>\n",
       "<style scoped>\n",
       "    .dataframe tbody tr th:only-of-type {\n",
       "        vertical-align: middle;\n",
       "    }\n",
       "\n",
       "    .dataframe tbody tr th {\n",
       "        vertical-align: top;\n",
       "    }\n",
       "\n",
       "    .dataframe thead th {\n",
       "        text-align: right;\n",
       "    }\n",
       "</style>\n",
       "<table border=\"1\" class=\"dataframe\">\n",
       "  <thead>\n",
       "    <tr style=\"text-align: right;\">\n",
       "      <th></th>\n",
       "      <th>label</th>\n",
       "      <th>label</th>\n",
       "      <th>label</th>\n",
       "      <th>label</th>\n",
       "      <th>label</th>\n",
       "      <th>label</th>\n",
       "      <th>label</th>\n",
       "      <th>mean</th>\n",
       "    </tr>\n",
       "    <tr>\n",
       "      <th>id</th>\n",
       "      <th></th>\n",
       "      <th></th>\n",
       "      <th></th>\n",
       "      <th></th>\n",
       "      <th></th>\n",
       "      <th></th>\n",
       "      <th></th>\n",
       "      <th></th>\n",
       "    </tr>\n",
       "  </thead>\n",
       "  <tbody>\n",
       "    <tr>\n",
       "      <th>2820</th>\n",
       "      <td>1.0</td>\n",
       "      <td>0.999852</td>\n",
       "      <td>0.995800</td>\n",
       "      <td>0.999761</td>\n",
       "      <td>0.999240</td>\n",
       "      <td>0.995275</td>\n",
       "      <td>0.997615</td>\n",
       "      <td>0.998220</td>\n",
       "    </tr>\n",
       "    <tr>\n",
       "      <th>4694</th>\n",
       "      <td>0.0</td>\n",
       "      <td>0.000106</td>\n",
       "      <td>0.000000</td>\n",
       "      <td>0.000000</td>\n",
       "      <td>0.000000</td>\n",
       "      <td>0.000000</td>\n",
       "      <td>0.000000</td>\n",
       "      <td>0.000015</td>\n",
       "    </tr>\n",
       "    <tr>\n",
       "      <th>9935</th>\n",
       "      <td>1.0</td>\n",
       "      <td>0.622674</td>\n",
       "      <td>0.999758</td>\n",
       "      <td>0.999727</td>\n",
       "      <td>0.998616</td>\n",
       "      <td>0.999609</td>\n",
       "      <td>0.997352</td>\n",
       "      <td>0.945391</td>\n",
       "    </tr>\n",
       "    <tr>\n",
       "      <th>3663</th>\n",
       "      <td>0.0</td>\n",
       "      <td>0.191133</td>\n",
       "      <td>0.000000</td>\n",
       "      <td>0.000000</td>\n",
       "      <td>0.000000</td>\n",
       "      <td>0.000000</td>\n",
       "      <td>0.000000</td>\n",
       "      <td>0.027305</td>\n",
       "    </tr>\n",
       "    <tr>\n",
       "      <th>5068</th>\n",
       "      <td>1.0</td>\n",
       "      <td>0.939712</td>\n",
       "      <td>0.993059</td>\n",
       "      <td>0.999816</td>\n",
       "      <td>0.991445</td>\n",
       "      <td>0.968179</td>\n",
       "      <td>0.996851</td>\n",
       "      <td>0.984152</td>\n",
       "    </tr>\n",
       "  </tbody>\n",
       "</table>\n",
       "</div>"
      ],
      "text/plain": [
       "      label     label     label     label     label     label     label  \\\n",
       "id                                                                        \n",
       "2820    1.0  0.999852  0.995800  0.999761  0.999240  0.995275  0.997615   \n",
       "4694    0.0  0.000106  0.000000  0.000000  0.000000  0.000000  0.000000   \n",
       "9935    1.0  0.622674  0.999758  0.999727  0.998616  0.999609  0.997352   \n",
       "3663    0.0  0.191133  0.000000  0.000000  0.000000  0.000000  0.000000   \n",
       "5068    1.0  0.939712  0.993059  0.999816  0.991445  0.968179  0.996851   \n",
       "\n",
       "          mean  \n",
       "id              \n",
       "2820  0.998220  \n",
       "4694  0.000015  \n",
       "9935  0.945391  \n",
       "3663  0.027305  \n",
       "5068  0.984152  "
      ]
     },
     "execution_count": 5,
     "metadata": {},
     "output_type": "execute_result"
    }
   ],
   "source": [
    "final_submission['mean'] = final_submission.mean(axis=1)\n",
    "final_submission.head()"
   ]
  },
  {
   "cell_type": "code",
   "execution_count": 6,
   "metadata": {},
   "outputs": [
    {
     "data": {
      "text/html": [
       "<div>\n",
       "<style scoped>\n",
       "    .dataframe tbody tr th:only-of-type {\n",
       "        vertical-align: middle;\n",
       "    }\n",
       "\n",
       "    .dataframe tbody tr th {\n",
       "        vertical-align: top;\n",
       "    }\n",
       "\n",
       "    .dataframe thead th {\n",
       "        text-align: right;\n",
       "    }\n",
       "</style>\n",
       "<table border=\"1\" class=\"dataframe\">\n",
       "  <thead>\n",
       "    <tr style=\"text-align: right;\">\n",
       "      <th></th>\n",
       "      <th>id</th>\n",
       "      <th>label</th>\n",
       "    </tr>\n",
       "  </thead>\n",
       "  <tbody>\n",
       "    <tr>\n",
       "      <th>0</th>\n",
       "      <td>2820</td>\n",
       "      <td>0.998220</td>\n",
       "    </tr>\n",
       "    <tr>\n",
       "      <th>1</th>\n",
       "      <td>4694</td>\n",
       "      <td>0.000015</td>\n",
       "    </tr>\n",
       "    <tr>\n",
       "      <th>2</th>\n",
       "      <td>9935</td>\n",
       "      <td>0.945391</td>\n",
       "    </tr>\n",
       "    <tr>\n",
       "      <th>3</th>\n",
       "      <td>3663</td>\n",
       "      <td>0.027305</td>\n",
       "    </tr>\n",
       "    <tr>\n",
       "      <th>4</th>\n",
       "      <td>5068</td>\n",
       "      <td>0.984152</td>\n",
       "    </tr>\n",
       "  </tbody>\n",
       "</table>\n",
       "</div>"
      ],
      "text/plain": [
       "     id     label\n",
       "0  2820  0.998220\n",
       "1  4694  0.000015\n",
       "2  9935  0.945391\n",
       "3  3663  0.027305\n",
       "4  5068  0.984152"
      ]
     },
     "execution_count": 6,
     "metadata": {},
     "output_type": "execute_result"
    }
   ],
   "source": [
    "final_submission=final_submission['mean']\n",
    "final_submission=final_submission.reset_index()\n",
    "final_submission.columns=['id','label']\n",
    "final_submission.head()"
   ]
  },
  {
   "cell_type": "code",
   "execution_count": 7,
   "metadata": {},
   "outputs": [],
   "source": [
    "final_submission.to_csv(\"final_submission.csv\",index=False)"
   ]
  },
  {
   "cell_type": "markdown",
   "metadata": {},
   "source": [
    "<img src =\"C:\\Users\\Piyush Gupta\\Google Drive (gupta588@umn.edu)\\MSBA 6420 - Predictive Analytics\\HW4\\Stacking\\results.png\" width=\"900\" align =\"left\">"
   ]
  }
 ],
 "metadata": {
  "kernelspec": {
   "display_name": "Python 3",
   "language": "python",
   "name": "python3"
  },
  "language_info": {
   "codemirror_mode": {
    "name": "ipython",
    "version": 3
   },
   "file_extension": ".py",
   "mimetype": "text/x-python",
   "name": "python",
   "nbconvert_exporter": "python",
   "pygments_lexer": "ipython3",
   "version": "3.7.3"
  },
  "toc": {
   "base_numbering": 1,
   "nav_menu": {},
   "number_sections": true,
   "sideBar": true,
   "skip_h1_title": false,
   "title_cell": "Table of Contents",
   "title_sidebar": "Contents",
   "toc_cell": false,
   "toc_position": {},
   "toc_section_display": true,
   "toc_window_display": false
  }
 },
 "nbformat": 4,
 "nbformat_minor": 2
}
